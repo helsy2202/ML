{
  "nbformat": 4,
  "nbformat_minor": 0,
  "metadata": {
    "colab": {
      "provenance": [],
      "authorship_tag": "ABX9TyNcDtKBx7A6nGT1HgSX7o/+",
      "include_colab_link": true
    },
    "kernelspec": {
      "name": "python3",
      "display_name": "Python 3"
    },
    "language_info": {
      "name": "python"
    }
  },
  "cells": [
    {
      "cell_type": "markdown",
      "metadata": {
        "id": "view-in-github",
        "colab_type": "text"
      },
      "source": [
        "<a href=\"https://colab.research.google.com/github/helsy2202/ML/blob/master/day3.ipynb\" target=\"_parent\"><img src=\"https://colab.research.google.com/assets/colab-badge.svg\" alt=\"Open In Colab\"/></a>"
      ]
    },
    {
      "cell_type": "code",
      "execution_count": null,
      "metadata": {
        "id": "4CMTbh5rxixe"
      },
      "outputs": [],
      "source": [
        "import numpy as np\n",
        "import pandas as pd\n",
        "from sklearn.cluster import KMeans\n",
        "from sklearn.preprocessing import OrdinalEncoder\n",
        "import matplotlib.pyplot as plt\n",
        "from sklearn.metrics import silhouette_score,classification_report\n",
        "from sklearn.model_selection import train_test_split"
      ]
    },
    {
      "cell_type": "code",
      "source": [
        "import seaborn as sns"
      ],
      "metadata": {
        "id": "Adr5rJ3Hxntf"
      },
      "execution_count": null,
      "outputs": []
    },
    {
      "cell_type": "code",
      "source": [
        "from sklearn.decomposition import PCA"
      ],
      "metadata": {
        "id": "3oMxTjSTxrJE"
      },
      "execution_count": null,
      "outputs": []
    },
    {
      "cell_type": "code",
      "source": [
        "from scipy.cluster.hierarchy import dendrogram, linkage"
      ],
      "metadata": {
        "id": "sIASV82wyA0q"
      },
      "execution_count": null,
      "outputs": []
    },
    {
      "cell_type": "code",
      "source": [
        "iris=pd.read_csv('/content/Iris.csv')\n",
        "iris"
      ],
      "metadata": {
        "colab": {
          "base_uri": "https://localhost:8080/",
          "height": 423
        },
        "id": "lTc_E1lIz84M",
        "outputId": "b5b8569c-bdf3-4bf1-805e-be8d6617c277"
      },
      "execution_count": null,
      "outputs": [
        {
          "output_type": "execute_result",
          "data": {
            "text/plain": [
              "      Id  SepalLengthCm  SepalWidthCm  PetalLengthCm  PetalWidthCm  \\\n",
              "0      1            5.1           3.5            1.4           0.2   \n",
              "1      2            4.9           3.0            1.4           0.2   \n",
              "2      3            4.7           3.2            1.3           0.2   \n",
              "3      4            4.6           3.1            1.5           0.2   \n",
              "4      5            5.0           3.6            1.4           0.2   \n",
              "..   ...            ...           ...            ...           ...   \n",
              "145  146            6.7           3.0            5.2           2.3   \n",
              "146  147            6.3           2.5            5.0           1.9   \n",
              "147  148            6.5           3.0            5.2           2.0   \n",
              "148  149            6.2           3.4            5.4           2.3   \n",
              "149  150            5.9           3.0            5.1           1.8   \n",
              "\n",
              "            Species  \n",
              "0       Iris-setosa  \n",
              "1       Iris-setosa  \n",
              "2       Iris-setosa  \n",
              "3       Iris-setosa  \n",
              "4       Iris-setosa  \n",
              "..              ...  \n",
              "145  Iris-virginica  \n",
              "146  Iris-virginica  \n",
              "147  Iris-virginica  \n",
              "148  Iris-virginica  \n",
              "149  Iris-virginica  \n",
              "\n",
              "[150 rows x 6 columns]"
            ],
            "text/html": [
              "\n",
              "  <div id=\"df-986d14d7-0605-48aa-a45e-1f8a478e5198\">\n",
              "    <div class=\"colab-df-container\">\n",
              "      <div>\n",
              "<style scoped>\n",
              "    .dataframe tbody tr th:only-of-type {\n",
              "        vertical-align: middle;\n",
              "    }\n",
              "\n",
              "    .dataframe tbody tr th {\n",
              "        vertical-align: top;\n",
              "    }\n",
              "\n",
              "    .dataframe thead th {\n",
              "        text-align: right;\n",
              "    }\n",
              "</style>\n",
              "<table border=\"1\" class=\"dataframe\">\n",
              "  <thead>\n",
              "    <tr style=\"text-align: right;\">\n",
              "      <th></th>\n",
              "      <th>Id</th>\n",
              "      <th>SepalLengthCm</th>\n",
              "      <th>SepalWidthCm</th>\n",
              "      <th>PetalLengthCm</th>\n",
              "      <th>PetalWidthCm</th>\n",
              "      <th>Species</th>\n",
              "    </tr>\n",
              "  </thead>\n",
              "  <tbody>\n",
              "    <tr>\n",
              "      <th>0</th>\n",
              "      <td>1</td>\n",
              "      <td>5.1</td>\n",
              "      <td>3.5</td>\n",
              "      <td>1.4</td>\n",
              "      <td>0.2</td>\n",
              "      <td>Iris-setosa</td>\n",
              "    </tr>\n",
              "    <tr>\n",
              "      <th>1</th>\n",
              "      <td>2</td>\n",
              "      <td>4.9</td>\n",
              "      <td>3.0</td>\n",
              "      <td>1.4</td>\n",
              "      <td>0.2</td>\n",
              "      <td>Iris-setosa</td>\n",
              "    </tr>\n",
              "    <tr>\n",
              "      <th>2</th>\n",
              "      <td>3</td>\n",
              "      <td>4.7</td>\n",
              "      <td>3.2</td>\n",
              "      <td>1.3</td>\n",
              "      <td>0.2</td>\n",
              "      <td>Iris-setosa</td>\n",
              "    </tr>\n",
              "    <tr>\n",
              "      <th>3</th>\n",
              "      <td>4</td>\n",
              "      <td>4.6</td>\n",
              "      <td>3.1</td>\n",
              "      <td>1.5</td>\n",
              "      <td>0.2</td>\n",
              "      <td>Iris-setosa</td>\n",
              "    </tr>\n",
              "    <tr>\n",
              "      <th>4</th>\n",
              "      <td>5</td>\n",
              "      <td>5.0</td>\n",
              "      <td>3.6</td>\n",
              "      <td>1.4</td>\n",
              "      <td>0.2</td>\n",
              "      <td>Iris-setosa</td>\n",
              "    </tr>\n",
              "    <tr>\n",
              "      <th>...</th>\n",
              "      <td>...</td>\n",
              "      <td>...</td>\n",
              "      <td>...</td>\n",
              "      <td>...</td>\n",
              "      <td>...</td>\n",
              "      <td>...</td>\n",
              "    </tr>\n",
              "    <tr>\n",
              "      <th>145</th>\n",
              "      <td>146</td>\n",
              "      <td>6.7</td>\n",
              "      <td>3.0</td>\n",
              "      <td>5.2</td>\n",
              "      <td>2.3</td>\n",
              "      <td>Iris-virginica</td>\n",
              "    </tr>\n",
              "    <tr>\n",
              "      <th>146</th>\n",
              "      <td>147</td>\n",
              "      <td>6.3</td>\n",
              "      <td>2.5</td>\n",
              "      <td>5.0</td>\n",
              "      <td>1.9</td>\n",
              "      <td>Iris-virginica</td>\n",
              "    </tr>\n",
              "    <tr>\n",
              "      <th>147</th>\n",
              "      <td>148</td>\n",
              "      <td>6.5</td>\n",
              "      <td>3.0</td>\n",
              "      <td>5.2</td>\n",
              "      <td>2.0</td>\n",
              "      <td>Iris-virginica</td>\n",
              "    </tr>\n",
              "    <tr>\n",
              "      <th>148</th>\n",
              "      <td>149</td>\n",
              "      <td>6.2</td>\n",
              "      <td>3.4</td>\n",
              "      <td>5.4</td>\n",
              "      <td>2.3</td>\n",
              "      <td>Iris-virginica</td>\n",
              "    </tr>\n",
              "    <tr>\n",
              "      <th>149</th>\n",
              "      <td>150</td>\n",
              "      <td>5.9</td>\n",
              "      <td>3.0</td>\n",
              "      <td>5.1</td>\n",
              "      <td>1.8</td>\n",
              "      <td>Iris-virginica</td>\n",
              "    </tr>\n",
              "  </tbody>\n",
              "</table>\n",
              "<p>150 rows × 6 columns</p>\n",
              "</div>\n",
              "      <button class=\"colab-df-convert\" onclick=\"convertToInteractive('df-986d14d7-0605-48aa-a45e-1f8a478e5198')\"\n",
              "              title=\"Convert this dataframe to an interactive table.\"\n",
              "              style=\"display:none;\">\n",
              "        \n",
              "  <svg xmlns=\"http://www.w3.org/2000/svg\" height=\"24px\"viewBox=\"0 0 24 24\"\n",
              "       width=\"24px\">\n",
              "    <path d=\"M0 0h24v24H0V0z\" fill=\"none\"/>\n",
              "    <path d=\"M18.56 5.44l.94 2.06.94-2.06 2.06-.94-2.06-.94-.94-2.06-.94 2.06-2.06.94zm-11 1L8.5 8.5l.94-2.06 2.06-.94-2.06-.94L8.5 2.5l-.94 2.06-2.06.94zm10 10l.94 2.06.94-2.06 2.06-.94-2.06-.94-.94-2.06-.94 2.06-2.06.94z\"/><path d=\"M17.41 7.96l-1.37-1.37c-.4-.4-.92-.59-1.43-.59-.52 0-1.04.2-1.43.59L10.3 9.45l-7.72 7.72c-.78.78-.78 2.05 0 2.83L4 21.41c.39.39.9.59 1.41.59.51 0 1.02-.2 1.41-.59l7.78-7.78 2.81-2.81c.8-.78.8-2.07 0-2.86zM5.41 20L4 18.59l7.72-7.72 1.47 1.35L5.41 20z\"/>\n",
              "  </svg>\n",
              "      </button>\n",
              "      \n",
              "  <style>\n",
              "    .colab-df-container {\n",
              "      display:flex;\n",
              "      flex-wrap:wrap;\n",
              "      gap: 12px;\n",
              "    }\n",
              "\n",
              "    .colab-df-convert {\n",
              "      background-color: #E8F0FE;\n",
              "      border: none;\n",
              "      border-radius: 50%;\n",
              "      cursor: pointer;\n",
              "      display: none;\n",
              "      fill: #1967D2;\n",
              "      height: 32px;\n",
              "      padding: 0 0 0 0;\n",
              "      width: 32px;\n",
              "    }\n",
              "\n",
              "    .colab-df-convert:hover {\n",
              "      background-color: #E2EBFA;\n",
              "      box-shadow: 0px 1px 2px rgba(60, 64, 67, 0.3), 0px 1px 3px 1px rgba(60, 64, 67, 0.15);\n",
              "      fill: #174EA6;\n",
              "    }\n",
              "\n",
              "    [theme=dark] .colab-df-convert {\n",
              "      background-color: #3B4455;\n",
              "      fill: #D2E3FC;\n",
              "    }\n",
              "\n",
              "    [theme=dark] .colab-df-convert:hover {\n",
              "      background-color: #434B5C;\n",
              "      box-shadow: 0px 1px 3px 1px rgba(0, 0, 0, 0.15);\n",
              "      filter: drop-shadow(0px 1px 2px rgba(0, 0, 0, 0.3));\n",
              "      fill: #FFFFFF;\n",
              "    }\n",
              "  </style>\n",
              "\n",
              "      <script>\n",
              "        const buttonEl =\n",
              "          document.querySelector('#df-986d14d7-0605-48aa-a45e-1f8a478e5198 button.colab-df-convert');\n",
              "        buttonEl.style.display =\n",
              "          google.colab.kernel.accessAllowed ? 'block' : 'none';\n",
              "\n",
              "        async function convertToInteractive(key) {\n",
              "          const element = document.querySelector('#df-986d14d7-0605-48aa-a45e-1f8a478e5198');\n",
              "          const dataTable =\n",
              "            await google.colab.kernel.invokeFunction('convertToInteractive',\n",
              "                                                     [key], {});\n",
              "          if (!dataTable) return;\n",
              "\n",
              "          const docLinkHtml = 'Like what you see? Visit the ' +\n",
              "            '<a target=\"_blank\" href=https://colab.research.google.com/notebooks/data_table.ipynb>data table notebook</a>'\n",
              "            + ' to learn more about interactive tables.';\n",
              "          element.innerHTML = '';\n",
              "          dataTable['output_type'] = 'display_data';\n",
              "          await google.colab.output.renderOutput(dataTable, element);\n",
              "          const docLink = document.createElement('div');\n",
              "          docLink.innerHTML = docLinkHtml;\n",
              "          element.appendChild(docLink);\n",
              "        }\n",
              "      </script>\n",
              "    </div>\n",
              "  </div>\n",
              "  "
            ]
          },
          "metadata": {},
          "execution_count": 5
        }
      ]
    },
    {
      "cell_type": "markdown",
      "source": [
        "# **Preprocessing**"
      ],
      "metadata": {
        "id": "GkcTqoqP0JVq"
      }
    },
    {
      "cell_type": "code",
      "source": [
        "IrIs=iris"
      ],
      "metadata": {
        "id": "PpTplYvU0Cyp"
      },
      "execution_count": null,
      "outputs": []
    },
    {
      "cell_type": "code",
      "source": [
        "iris.isnull().sum()"
      ],
      "metadata": {
        "colab": {
          "base_uri": "https://localhost:8080/"
        },
        "id": "8snzFxzO0U_K",
        "outputId": "230c6a48-ff61-4a13-d9cd-ca4d072b948e"
      },
      "execution_count": null,
      "outputs": [
        {
          "output_type": "execute_result",
          "data": {
            "text/plain": [
              "Id               0\n",
              "SepalLengthCm    0\n",
              "SepalWidthCm     0\n",
              "PetalLengthCm    0\n",
              "PetalWidthCm     0\n",
              "Species          0\n",
              "dtype: int64"
            ]
          },
          "metadata": {},
          "execution_count": 9
        }
      ]
    },
    {
      "cell_type": "code",
      "source": [
        "encoder=OrdinalEncoder()\n",
        "Iris=encoder.fit_transform(iris[['Species']])\n",
        "Iris"
      ],
      "metadata": {
        "colab": {
          "base_uri": "https://localhost:8080/"
        },
        "id": "i9CmTkIj0cyg",
        "outputId": "7afda52b-59af-4d14-c425-09ca6e3cd987"
      },
      "execution_count": null,
      "outputs": [
        {
          "output_type": "execute_result",
          "data": {
            "text/plain": [
              "array([[0.],\n",
              "       [0.],\n",
              "       [0.],\n",
              "       [0.],\n",
              "       [0.],\n",
              "       [0.],\n",
              "       [0.],\n",
              "       [0.],\n",
              "       [0.],\n",
              "       [0.],\n",
              "       [0.],\n",
              "       [0.],\n",
              "       [0.],\n",
              "       [0.],\n",
              "       [0.],\n",
              "       [0.],\n",
              "       [0.],\n",
              "       [0.],\n",
              "       [0.],\n",
              "       [0.],\n",
              "       [0.],\n",
              "       [0.],\n",
              "       [0.],\n",
              "       [0.],\n",
              "       [0.],\n",
              "       [0.],\n",
              "       [0.],\n",
              "       [0.],\n",
              "       [0.],\n",
              "       [0.],\n",
              "       [0.],\n",
              "       [0.],\n",
              "       [0.],\n",
              "       [0.],\n",
              "       [0.],\n",
              "       [0.],\n",
              "       [0.],\n",
              "       [0.],\n",
              "       [0.],\n",
              "       [0.],\n",
              "       [0.],\n",
              "       [0.],\n",
              "       [0.],\n",
              "       [0.],\n",
              "       [0.],\n",
              "       [0.],\n",
              "       [0.],\n",
              "       [0.],\n",
              "       [0.],\n",
              "       [0.],\n",
              "       [1.],\n",
              "       [1.],\n",
              "       [1.],\n",
              "       [1.],\n",
              "       [1.],\n",
              "       [1.],\n",
              "       [1.],\n",
              "       [1.],\n",
              "       [1.],\n",
              "       [1.],\n",
              "       [1.],\n",
              "       [1.],\n",
              "       [1.],\n",
              "       [1.],\n",
              "       [1.],\n",
              "       [1.],\n",
              "       [1.],\n",
              "       [1.],\n",
              "       [1.],\n",
              "       [1.],\n",
              "       [1.],\n",
              "       [1.],\n",
              "       [1.],\n",
              "       [1.],\n",
              "       [1.],\n",
              "       [1.],\n",
              "       [1.],\n",
              "       [1.],\n",
              "       [1.],\n",
              "       [1.],\n",
              "       [1.],\n",
              "       [1.],\n",
              "       [1.],\n",
              "       [1.],\n",
              "       [1.],\n",
              "       [1.],\n",
              "       [1.],\n",
              "       [1.],\n",
              "       [1.],\n",
              "       [1.],\n",
              "       [1.],\n",
              "       [1.],\n",
              "       [1.],\n",
              "       [1.],\n",
              "       [1.],\n",
              "       [1.],\n",
              "       [1.],\n",
              "       [1.],\n",
              "       [1.],\n",
              "       [1.],\n",
              "       [2.],\n",
              "       [2.],\n",
              "       [2.],\n",
              "       [2.],\n",
              "       [2.],\n",
              "       [2.],\n",
              "       [2.],\n",
              "       [2.],\n",
              "       [2.],\n",
              "       [2.],\n",
              "       [2.],\n",
              "       [2.],\n",
              "       [2.],\n",
              "       [2.],\n",
              "       [2.],\n",
              "       [2.],\n",
              "       [2.],\n",
              "       [2.],\n",
              "       [2.],\n",
              "       [2.],\n",
              "       [2.],\n",
              "       [2.],\n",
              "       [2.],\n",
              "       [2.],\n",
              "       [2.],\n",
              "       [2.],\n",
              "       [2.],\n",
              "       [2.],\n",
              "       [2.],\n",
              "       [2.],\n",
              "       [2.],\n",
              "       [2.],\n",
              "       [2.],\n",
              "       [2.],\n",
              "       [2.],\n",
              "       [2.],\n",
              "       [2.],\n",
              "       [2.],\n",
              "       [2.],\n",
              "       [2.],\n",
              "       [2.],\n",
              "       [2.],\n",
              "       [2.],\n",
              "       [2.],\n",
              "       [2.],\n",
              "       [2.],\n",
              "       [2.],\n",
              "       [2.],\n",
              "       [2.],\n",
              "       [2.]])"
            ]
          },
          "metadata": {},
          "execution_count": 11
        }
      ]
    },
    {
      "cell_type": "code",
      "source": [
        "iris['Species']=Iris\n",
        "iris.drop('species',axis=1)"
      ],
      "metadata": {
        "colab": {
          "base_uri": "https://localhost:8080/",
          "height": 423
        },
        "id": "BFv44i3D3gLK",
        "outputId": "c88c2949-eccc-4a48-ce1b-9a58f4dca3fe"
      },
      "execution_count": null,
      "outputs": [
        {
          "output_type": "execute_result",
          "data": {
            "text/plain": [
              "      Id  SepalLengthCm  SepalWidthCm  PetalLengthCm  PetalWidthCm  Species\n",
              "0      1            5.1           3.5            1.4           0.2      0.0\n",
              "1      2            4.9           3.0            1.4           0.2      0.0\n",
              "2      3            4.7           3.2            1.3           0.2      0.0\n",
              "3      4            4.6           3.1            1.5           0.2      0.0\n",
              "4      5            5.0           3.6            1.4           0.2      0.0\n",
              "..   ...            ...           ...            ...           ...      ...\n",
              "145  146            6.7           3.0            5.2           2.3      2.0\n",
              "146  147            6.3           2.5            5.0           1.9      2.0\n",
              "147  148            6.5           3.0            5.2           2.0      2.0\n",
              "148  149            6.2           3.4            5.4           2.3      2.0\n",
              "149  150            5.9           3.0            5.1           1.8      2.0\n",
              "\n",
              "[150 rows x 6 columns]"
            ],
            "text/html": [
              "\n",
              "  <div id=\"df-acb79fc7-99d2-4a02-8c59-ced46c0385cd\">\n",
              "    <div class=\"colab-df-container\">\n",
              "      <div>\n",
              "<style scoped>\n",
              "    .dataframe tbody tr th:only-of-type {\n",
              "        vertical-align: middle;\n",
              "    }\n",
              "\n",
              "    .dataframe tbody tr th {\n",
              "        vertical-align: top;\n",
              "    }\n",
              "\n",
              "    .dataframe thead th {\n",
              "        text-align: right;\n",
              "    }\n",
              "</style>\n",
              "<table border=\"1\" class=\"dataframe\">\n",
              "  <thead>\n",
              "    <tr style=\"text-align: right;\">\n",
              "      <th></th>\n",
              "      <th>Id</th>\n",
              "      <th>SepalLengthCm</th>\n",
              "      <th>SepalWidthCm</th>\n",
              "      <th>PetalLengthCm</th>\n",
              "      <th>PetalWidthCm</th>\n",
              "      <th>Species</th>\n",
              "    </tr>\n",
              "  </thead>\n",
              "  <tbody>\n",
              "    <tr>\n",
              "      <th>0</th>\n",
              "      <td>1</td>\n",
              "      <td>5.1</td>\n",
              "      <td>3.5</td>\n",
              "      <td>1.4</td>\n",
              "      <td>0.2</td>\n",
              "      <td>0.0</td>\n",
              "    </tr>\n",
              "    <tr>\n",
              "      <th>1</th>\n",
              "      <td>2</td>\n",
              "      <td>4.9</td>\n",
              "      <td>3.0</td>\n",
              "      <td>1.4</td>\n",
              "      <td>0.2</td>\n",
              "      <td>0.0</td>\n",
              "    </tr>\n",
              "    <tr>\n",
              "      <th>2</th>\n",
              "      <td>3</td>\n",
              "      <td>4.7</td>\n",
              "      <td>3.2</td>\n",
              "      <td>1.3</td>\n",
              "      <td>0.2</td>\n",
              "      <td>0.0</td>\n",
              "    </tr>\n",
              "    <tr>\n",
              "      <th>3</th>\n",
              "      <td>4</td>\n",
              "      <td>4.6</td>\n",
              "      <td>3.1</td>\n",
              "      <td>1.5</td>\n",
              "      <td>0.2</td>\n",
              "      <td>0.0</td>\n",
              "    </tr>\n",
              "    <tr>\n",
              "      <th>4</th>\n",
              "      <td>5</td>\n",
              "      <td>5.0</td>\n",
              "      <td>3.6</td>\n",
              "      <td>1.4</td>\n",
              "      <td>0.2</td>\n",
              "      <td>0.0</td>\n",
              "    </tr>\n",
              "    <tr>\n",
              "      <th>...</th>\n",
              "      <td>...</td>\n",
              "      <td>...</td>\n",
              "      <td>...</td>\n",
              "      <td>...</td>\n",
              "      <td>...</td>\n",
              "      <td>...</td>\n",
              "    </tr>\n",
              "    <tr>\n",
              "      <th>145</th>\n",
              "      <td>146</td>\n",
              "      <td>6.7</td>\n",
              "      <td>3.0</td>\n",
              "      <td>5.2</td>\n",
              "      <td>2.3</td>\n",
              "      <td>2.0</td>\n",
              "    </tr>\n",
              "    <tr>\n",
              "      <th>146</th>\n",
              "      <td>147</td>\n",
              "      <td>6.3</td>\n",
              "      <td>2.5</td>\n",
              "      <td>5.0</td>\n",
              "      <td>1.9</td>\n",
              "      <td>2.0</td>\n",
              "    </tr>\n",
              "    <tr>\n",
              "      <th>147</th>\n",
              "      <td>148</td>\n",
              "      <td>6.5</td>\n",
              "      <td>3.0</td>\n",
              "      <td>5.2</td>\n",
              "      <td>2.0</td>\n",
              "      <td>2.0</td>\n",
              "    </tr>\n",
              "    <tr>\n",
              "      <th>148</th>\n",
              "      <td>149</td>\n",
              "      <td>6.2</td>\n",
              "      <td>3.4</td>\n",
              "      <td>5.4</td>\n",
              "      <td>2.3</td>\n",
              "      <td>2.0</td>\n",
              "    </tr>\n",
              "    <tr>\n",
              "      <th>149</th>\n",
              "      <td>150</td>\n",
              "      <td>5.9</td>\n",
              "      <td>3.0</td>\n",
              "      <td>5.1</td>\n",
              "      <td>1.8</td>\n",
              "      <td>2.0</td>\n",
              "    </tr>\n",
              "  </tbody>\n",
              "</table>\n",
              "<p>150 rows × 6 columns</p>\n",
              "</div>\n",
              "      <button class=\"colab-df-convert\" onclick=\"convertToInteractive('df-acb79fc7-99d2-4a02-8c59-ced46c0385cd')\"\n",
              "              title=\"Convert this dataframe to an interactive table.\"\n",
              "              style=\"display:none;\">\n",
              "        \n",
              "  <svg xmlns=\"http://www.w3.org/2000/svg\" height=\"24px\"viewBox=\"0 0 24 24\"\n",
              "       width=\"24px\">\n",
              "    <path d=\"M0 0h24v24H0V0z\" fill=\"none\"/>\n",
              "    <path d=\"M18.56 5.44l.94 2.06.94-2.06 2.06-.94-2.06-.94-.94-2.06-.94 2.06-2.06.94zm-11 1L8.5 8.5l.94-2.06 2.06-.94-2.06-.94L8.5 2.5l-.94 2.06-2.06.94zm10 10l.94 2.06.94-2.06 2.06-.94-2.06-.94-.94-2.06-.94 2.06-2.06.94z\"/><path d=\"M17.41 7.96l-1.37-1.37c-.4-.4-.92-.59-1.43-.59-.52 0-1.04.2-1.43.59L10.3 9.45l-7.72 7.72c-.78.78-.78 2.05 0 2.83L4 21.41c.39.39.9.59 1.41.59.51 0 1.02-.2 1.41-.59l7.78-7.78 2.81-2.81c.8-.78.8-2.07 0-2.86zM5.41 20L4 18.59l7.72-7.72 1.47 1.35L5.41 20z\"/>\n",
              "  </svg>\n",
              "      </button>\n",
              "      \n",
              "  <style>\n",
              "    .colab-df-container {\n",
              "      display:flex;\n",
              "      flex-wrap:wrap;\n",
              "      gap: 12px;\n",
              "    }\n",
              "\n",
              "    .colab-df-convert {\n",
              "      background-color: #E8F0FE;\n",
              "      border: none;\n",
              "      border-radius: 50%;\n",
              "      cursor: pointer;\n",
              "      display: none;\n",
              "      fill: #1967D2;\n",
              "      height: 32px;\n",
              "      padding: 0 0 0 0;\n",
              "      width: 32px;\n",
              "    }\n",
              "\n",
              "    .colab-df-convert:hover {\n",
              "      background-color: #E2EBFA;\n",
              "      box-shadow: 0px 1px 2px rgba(60, 64, 67, 0.3), 0px 1px 3px 1px rgba(60, 64, 67, 0.15);\n",
              "      fill: #174EA6;\n",
              "    }\n",
              "\n",
              "    [theme=dark] .colab-df-convert {\n",
              "      background-color: #3B4455;\n",
              "      fill: #D2E3FC;\n",
              "    }\n",
              "\n",
              "    [theme=dark] .colab-df-convert:hover {\n",
              "      background-color: #434B5C;\n",
              "      box-shadow: 0px 1px 3px 1px rgba(0, 0, 0, 0.15);\n",
              "      filter: drop-shadow(0px 1px 2px rgba(0, 0, 0, 0.3));\n",
              "      fill: #FFFFFF;\n",
              "    }\n",
              "  </style>\n",
              "\n",
              "      <script>\n",
              "        const buttonEl =\n",
              "          document.querySelector('#df-acb79fc7-99d2-4a02-8c59-ced46c0385cd button.colab-df-convert');\n",
              "        buttonEl.style.display =\n",
              "          google.colab.kernel.accessAllowed ? 'block' : 'none';\n",
              "\n",
              "        async function convertToInteractive(key) {\n",
              "          const element = document.querySelector('#df-acb79fc7-99d2-4a02-8c59-ced46c0385cd');\n",
              "          const dataTable =\n",
              "            await google.colab.kernel.invokeFunction('convertToInteractive',\n",
              "                                                     [key], {});\n",
              "          if (!dataTable) return;\n",
              "\n",
              "          const docLinkHtml = 'Like what you see? Visit the ' +\n",
              "            '<a target=\"_blank\" href=https://colab.research.google.com/notebooks/data_table.ipynb>data table notebook</a>'\n",
              "            + ' to learn more about interactive tables.';\n",
              "          element.innerHTML = '';\n",
              "          dataTable['output_type'] = 'display_data';\n",
              "          await google.colab.output.renderOutput(dataTable, element);\n",
              "          const docLink = document.createElement('div');\n",
              "          docLink.innerHTML = docLinkHtml;\n",
              "          element.appendChild(docLink);\n",
              "        }\n",
              "      </script>\n",
              "    </div>\n",
              "  </div>\n",
              "  "
            ]
          },
          "metadata": {},
          "execution_count": 25
        }
      ]
    },
    {
      "cell_type": "markdown",
      "source": [
        "# **Visualization**"
      ],
      "metadata": {
        "id": "eL2tgdhx3ka5"
      }
    },
    {
      "cell_type": "code",
      "source": [
        "sns.scatterplot(data=IrIs[:],x='SepalWidthCm',y='SepalLengthCm',hue=\"Species\")"
      ],
      "metadata": {
        "colab": {
          "base_uri": "https://localhost:8080/",
          "height": 467
        },
        "id": "i5TXdt9n3mmN",
        "outputId": "aa9081eb-b571-417d-a494-7484368b278e"
      },
      "execution_count": null,
      "outputs": [
        {
          "output_type": "execute_result",
          "data": {
            "text/plain": [
              "<Axes: xlabel='SepalWidthCm', ylabel='SepalLengthCm'>"
            ]
          },
          "metadata": {},
          "execution_count": 19
        },
        {
          "output_type": "display_data",
          "data": {
            "text/plain": [
              "<Figure size 640x480 with 1 Axes>"
            ],
            "image/png": "[encoded data removed]"
          },
          "metadata": {}
        }
      ]
    },
    {
      "cell_type": "code",
      "source": [
        "sns.scatterplot(data=IrIs[:],x='PetalWidthCm',y='PetalLengthCm',hue=\"species\")"
      ],
      "metadata": {
        "colab": {
          "base_uri": "https://localhost:8080/",
          "height": 467
        },
        "id": "VxgzUVEr4Mg6",
        "outputId": "095ff746-0a58-4215-bf17-37a4f6120b1e"
      },
      "execution_count": null,
      "outputs": [
        {
          "output_type": "execute_result",
          "data": {
            "text/plain": [
              "<Axes: xlabel='PetalWidthCm', ylabel='PetalLengthCm'>"
            ]
          },
          "metadata": {},
          "execution_count": 21
        },
        {
          "output_type": "display_data",
          "data": {
            "text/plain": [
              "<Figure size 640x480 with 1 Axes>"
            ],
            "image/png": "[encoded data removed]"
          },
          "metadata": {}
        }
      ]
    },
    {
      "cell_type": "markdown",
      "source": [
        "# **kmeans**"
      ],
      "metadata": {
        "id": "4QRnfec64kHb"
      }
    },
    {
      "cell_type": "code",
      "source": [
        "Test,Train=train_test_split(iris,test_size=0.10,random_state=10)"
      ],
      "metadata": {
        "id": "nSr2a1TD4qbY"
      },
      "execution_count": null,
      "outputs": []
    },
    {
      "cell_type": "code",
      "source": [
        "k_means=KMeans(n_clusters=3)\n",
        "k_means.fit(Test)\n",
        "res=k_means.predict(Train)\n",
        "print(res)\n",
        "kmeans_labels = k_means.labels_\n",
        "kmeans_score = silhouette_score(Test, kmeans_labels)\n",
        "print('\\n\\nK-Means Silhouette Score:', kmeans_score)\n",
        "print()\n",
        "print()"
      ],
      "metadata": {
        "colab": {
          "base_uri": "https://localhost:8080/"
        },
        "id": "0rvTa60T4v8y",
        "outputId": "e46fd16a-4807-4e38-b08f-0f31cf3aa890"
      },
      "execution_count": null,
      "outputs": [
        {
          "output_type": "stream",
          "name": "stdout",
          "text": [
            "[2 0 1 2 1 2 2 2 1 2 2 0 2 1 1]\n",
            "\n",
            "\n",
            "K-Means Silhouette Score: 0.5899864630474446\n",
            "\n",
            "\n"
          ]
        },
        {
          "output_type": "stream",
          "name": "stderr",
          "text": [
            "/usr/local/lib/python3.10/dist-packages/sklearn/cluster/_kmeans.py:870: FutureWarning: The default value of `n_init` will change from 10 to 'auto' in 1.4. Set the value of `n_init` explicitly to suppress the warning\n",
            "  warnings.warn(\n"
          ]
        }
      ]
    },
    {
      "cell_type": "markdown",
      "source": [
        "# **Heirarchial Clustering**"
      ],
      "metadata": {
        "id": "d_ZYignH5VS_"
      }
    },
    {
      "cell_type": "code",
      "source": [
        "Z = linkage(iris, method='centroid')"
      ],
      "metadata": {
        "id": "ow_B17yL5oh3"
      },
      "execution_count": null,
      "outputs": []
    },
    {
      "cell_type": "code",
      "source": [
        "plt.figure(figsize=(10, 5))\n",
        "dendrogram(Z)\n",
        "plt.xlabel('Samples')\n",
        "plt.ylabel('Distance')\n",
        "plt.title('Hierarchical Clustering Dendrogram')\n",
        "plt.show()"
      ],
      "metadata": {
        "colab": {
          "base_uri": "https://localhost:8080/",
          "height": 487
        },
        "id": "Og-xtqKE-ejq",
        "outputId": "e11704bc-d37d-4ae5-8a48-b0e62fdf34ea"
      },
      "execution_count": null,
      "outputs": [
        {
          "output_type": "display_data",
          "data": {
            "text/plain": [
              "<Figure size 1000x500 with 1 Axes>"
            ],
            "image/png": "[encoded data removed]"
          },
          "metadata": {}
        }
      ]
    },
    {
      "cell_type": "markdown",
      "source": [
        "# **PCA**"
      ],
      "metadata": {
        "id": "tKJ9kxJ7-o9S"
      }
    },
    {
      "cell_type": "code",
      "source": [
        "pca = PCA(n_components=2)\n",
        "pca_iris = pca.fit_transform(iris)\n",
        "pca_iris"
      ],
      "metadata": {
        "colab": {
          "base_uri": "https://localhost:8080/"
        },
        "id": "OHQ3oXTR-vUe",
        "outputId": "89514dd4-3387-485d-caf4-10a3e72eeebc"
      },
      "execution_count": null,
      "outputs": [
        {
          "output_type": "execute_result",
          "data": {
            "text/plain": [
              "array([[ 7.45595259e+01,  5.53725715e-01],\n",
              "       [ 7.35614578e+01,  4.25493373e-01],\n",
              "       [ 7.25697487e+01,  2.03291037e-01],\n",
              "       [ 7.15647358e+01,  2.71110632e-01],\n",
              "       [ 7.05660236e+01,  3.19959878e-01],\n",
              "       [ 6.95490279e+01,  7.44027465e-01],\n",
              "       [ 6.85714807e+01,  7.37538957e-02],\n",
              "       [ 6.75651992e+01,  2.64280064e-01],\n",
              "       [ 6.65761759e+01, -1.28033807e-01],\n",
              "       [ 6.55693221e+01,  1.04490770e-01],\n",
              "       [ 6.45644787e+01,  3.03802926e-01],\n",
              "       [ 6.35690829e+01,  6.55425835e-02],\n",
              "       [ 6.25774255e+01, -1.57830499e-01],\n",
              "       [ 6.15961854e+01, -6.72789009e-01],\n",
              "       [ 6.05756908e+01,  5.95383544e-02],\n",
              "       [ 5.95659191e+01,  2.50316962e-01],\n",
              "       [ 5.85763823e+01, -8.24389317e-02],\n",
              "       [ 5.75780727e+01, -2.07080656e-01],\n",
              "       [ 5.65615049e+01,  2.55051500e-01],\n",
              "       [ 5.55780474e+01, -2.26996558e-01],\n",
              "       [ 5.45679621e+01,  4.91167802e-03],\n",
              "       [ 5.35784393e+01, -2.90383582e-01],\n",
              "       [ 5.26071271e+01, -1.01591739e+00],\n",
              "       [ 5.15704756e+01, -1.89127559e-01],\n",
              "       [ 5.05737249e+01, -2.99617996e-01],\n",
              "       [ 4.95813401e+01, -4.82465384e-01],\n",
              "       [ 4.85809516e+01, -4.82886566e-01],\n",
              "       [ 4.75865427e+01, -5.72437999e-01],\n",
              "       [ 4.65909129e+01, -6.95818193e-01],\n",
              "       [ 4.55909653e+01, -8.10817556e-01],\n",
              "       [ 4.45903871e+01, -8.08818867e-01],\n",
              "       [ 4.35849920e+01, -6.08861520e-01],\n",
              "       [ 4.25964211e+01, -8.44114501e-01],\n",
              "       [ 4.15959086e+01, -8.05825925e-01],\n",
              "       [ 4.05989194e+01, -1.05434497e+00],\n",
              "       [ 3.96083037e+01, -1.26681416e+00],\n",
              "       [ 3.86002671e+01, -1.00920556e+00],\n",
              "       [ 3.76024711e+01, -1.19340526e+00],\n",
              "       [ 3.66156722e+01, -1.59989927e+00],\n",
              "       [ 3.56017183e+01, -1.17279547e+00],\n",
              "       [ 3.46102507e+01, -1.39858842e+00],\n",
              "       [ 3.36135029e+01, -1.65069808e+00],\n",
              "       [ 3.26212010e+01, -1.78954879e+00],\n",
              "       [ 3.15983156e+01, -1.21860891e+00],\n",
              "       [ 3.05917339e+01, -1.04205169e+00],\n",
              "       [ 2.96133353e+01, -1.63308981e+00],\n",
              "       [ 2.86080091e+01, -1.42659642e+00],\n",
              "       [ 2.76208066e+01, -1.84970284e+00],\n",
              "       [ 2.66108322e+01, -1.50386161e+00],\n",
              "       [ 2.56181091e+01, -1.75959074e+00],\n",
              "       [ 2.44188730e+01,  2.46712434e+00],\n",
              "       [ 2.34338361e+01,  2.01227821e+00],\n",
              "       [ 2.24134645e+01,  2.51579244e+00],\n",
              "       [ 2.14659970e+01,  1.07239735e+00],\n",
              "       [ 2.04308531e+01,  2.00706842e+00],\n",
              "       [ 1.94497024e+01,  1.45729274e+00],\n",
              "       [ 1.84327725e+01,  1.91765021e+00],\n",
              "       [ 1.75091403e+01, -2.81580391e-02],\n",
              "       [ 1.64377785e+01,  1.81136715e+00],\n",
              "       [ 1.54807867e+01,  5.95159771e-01],\n",
              "       [ 1.45025744e+01,  4.57768386e-02],\n",
              "       [ 1.34624579e+01,  1.08437464e+00],\n",
              "       [ 1.24741662e+01,  8.06899666e-01],\n",
              "       [ 1.14453631e+01,  1.45477553e+00],\n",
              "       [ 1.04943654e+01,  2.79457742e-01],\n",
              "       [ 9.45107985e+00,  1.39780415e+00],\n",
              "       [ 8.46172519e+00,  9.51338854e-01],\n",
              "       [ 7.48121671e+00,  5.51219237e-01],\n",
              "       [ 6.45272738e+00,  1.15298052e+00],\n",
              "       [ 5.49110866e+00,  2.39192350e-01],\n",
              "       [ 4.44767076e+00,  1.21943177e+00],\n",
              "       [ 3.48109720e+00,  5.04851388e-01],\n",
              "       [ 2.44295574e+00,  1.32402598e+00],\n",
              "       [ 1.45996423e+00,  9.38955274e-01],\n",
              "       [ 4.70200406e-01,  7.39809846e-01],\n",
              "       [-5.36112316e-01,  8.90153543e-01],\n",
              "       [-1.55278406e+00,  1.25708302e+00],\n",
              "       [-2.56134537e+00,  1.40015470e+00],\n",
              "       [-3.52992659e+00,  5.82152465e-01],\n",
              "       [-4.48211041e+00, -5.24006237e-01],\n",
              "       [-5.49131674e+00, -3.93956355e-01],\n",
              "       [-6.48497059e+00, -5.46656384e-01],\n",
              "       [-7.49701786e+00, -2.47967679e-01],\n",
              "       [-8.54787692e+00,  8.56691064e-01],\n",
              "       [-9.51423375e+00,  2.45086915e-02],\n",
              "       [-1.05212357e+01,  2.74290871e-01],\n",
              "       [-1.15363864e+01,  6.89018065e-01],\n",
              "       [-1.25190059e+01,  1.82833137e-01],\n",
              "       [-1.34947389e+01, -4.39419131e-01],\n",
              "       [-1.44905896e+01, -6.00561925e-01],\n",
              "       [-1.55017612e+01, -3.59656518e-01],\n",
              "       [-1.65175084e+01,  7.56169291e-02],\n",
              "       [-1.74891584e+01, -6.30239403e-01],\n",
              "       [-1.84500015e+01, -1.64852938e+00],\n",
              "       [-1.94924082e+01, -6.32041329e-01],\n",
              "       [-2.04898206e+01, -6.65716186e-01],\n",
              "       [-2.14906127e+01, -6.82749780e-01],\n",
              "       [-2.24998391e+01, -4.18787465e-01],\n",
              "       [-2.34354851e+01, -2.04853020e+00],\n",
              "       [-2.44838747e+01, -8.98836833e-01],\n",
              "       [-2.56114543e+01,  1.55986646e+00],\n",
              "       [-2.65641004e+01,  4.19535772e-01],\n",
              "       [-2.76112998e+01,  1.65543464e+00],\n",
              "       [-2.85841019e+01,  9.22285591e-01],\n",
              "       [-2.95987356e+01,  1.23337975e+00],\n",
              "       [-3.06396556e+01,  2.30155810e+00],\n",
              "       [-3.15220288e+01, -7.53375378e-01],\n",
              "       [-3.26181012e+01,  1.75322670e+00],\n",
              "       [-3.35923964e+01,  1.04221626e+00],\n",
              "       [-3.46154817e+01,  1.63158449e+00],\n",
              "       [-3.55626002e+01,  3.42606827e-01],\n",
              "       [-3.65676201e+01,  3.91696105e-01],\n",
              "       [-3.75810329e+01,  7.36619025e-01],\n",
              "       [-3.85473179e+01, -2.30646527e-01],\n",
              "       [-3.95562101e+01, -4.91670590e-02],\n",
              "       [-4.05672191e+01,  3.04500594e-01],\n",
              "       [-4.15674627e+01,  3.30896866e-01],\n",
              "       [-4.26288039e+01,  1.88095453e+00],\n",
              "       [-4.36411242e+01,  2.04550722e+00],\n",
              "       [-4.45376039e+01, -4.99720404e-01],\n",
              "       [-4.55824585e+01,  6.20483195e-01],\n",
              "       [-4.65317086e+01, -7.33206558e-01],\n",
              "       [-4.76236916e+01,  1.61596256e+00],\n",
              "       [-4.85361370e+01, -5.54559869e-01],\n",
              "       [-4.95714366e+01,  2.86079280e-01],\n",
              "       [-5.05834872e+01,  6.28843041e-01],\n",
              "       [-5.15272404e+01, -8.21116945e-01],\n",
              "       [-5.25274807e+01, -8.38795729e-01],\n",
              "       [-5.35610047e+01, -1.06592234e-01],\n",
              "       [-5.45692203e+01,  2.34971931e-01],\n",
              "       [-5.55870473e+01,  6.04362538e-01],\n",
              "       [-5.66010529e+01,  1.03263708e+00],\n",
              "       [-5.75578485e+01, -2.64804021e-01],\n",
              "       [-5.85263291e+01, -9.43528526e-01],\n",
              "       [-5.95395425e+01, -7.09593170e-01],\n",
              "       [-6.05907486e+01,  6.15869955e-01],\n",
              "       [-6.15525266e+01, -4.54755514e-01],\n",
              "       [-6.25408389e+01, -6.90877274e-01],\n",
              "       [-6.35095095e+01, -1.47406234e+00],\n",
              "       [-6.45464537e+01, -5.49951929e-01],\n",
              "       [-6.55544427e+01, -4.48878660e-01],\n",
              "       [-6.65364961e+01, -8.25688930e-01],\n",
              "       [-6.75155608e+01, -1.48095484e+00],\n",
              "       [-6.85610292e+01, -3.33590564e-01],\n",
              "       [-6.95540762e+01, -5.32181586e-01],\n",
              "       [-7.05330090e+01, -1.02230851e+00],\n",
              "       [-7.15148629e+01, -1.51010634e+00],\n",
              "       [-7.25231721e+01, -1.28908959e+00],\n",
              "       [-7.35282093e+01, -1.24272215e+00],\n",
              "       [-7.45058698e+01, -1.79275027e+00]])"
            ]
          },
          "metadata": {},
          "execution_count": 33
        }
      ]
    },
    {
      "cell_type": "code",
      "source": [
        "plt.scatter(pca_iris[:, 0], pca_iris[:, 1], c=iris['species'], cmap='viridis')\n",
        "plt.xlabel('Principal Component 1')\n",
        "plt.ylabel('Principal Component 2')\n",
        "plt.title('PCA on Iris Dataset')\n",
        "plt.show()"
      ],
      "metadata": {
        "colab": {
          "base_uri": "https://localhost:8080/",
          "height": 472
        },
        "id": "dbEV-DdU-8Lh",
        "outputId": "25670700-80ec-4f37-cde9-b9b9179f4f96"
      },
      "execution_count": null,
      "outputs": [
        {
          "output_type": "display_data",
          "data": {
            "text/plain": [
              "<Figure size 640x480 with 1 Axes>"
            ],
            "image/png": "[encoded data removed]"
          },
          "metadata": {}
        }
      ]
    }
  ]
}